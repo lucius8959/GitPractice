{
  "nbformat": 4,
  "nbformat_minor": 0,
  "metadata": {
    "colab": {
      "name": "python_prac",
      "provenance": [],
      "authorship_tag": "ABX9TyNxs+nHojS2W1H/NiWiTXQt",
      "include_colab_link": true
    },
    "kernelspec": {
      "name": "python3",
      "display_name": "Python 3"
    }
  },
  "cells": [
    {
      "cell_type": "markdown",
      "metadata": {
        "id": "view-in-github",
        "colab_type": "text"
      },
      "source": [
        "<a href=\"https://colab.research.google.com/github/lucius8959/GitPractice/blob/master/python_prac.ipynb\" target=\"_parent\"><img src=\"https://colab.research.google.com/assets/colab-badge.svg\" alt=\"Open In Colab\"/></a>"
      ]
    },
    {
      "cell_type": "code",
      "metadata": {
        "id": "qU0rFsfM6aVX"
      },
      "source": [
        "input_str = '  今天天氣不錯,挺風和日麗的  '"
      ],
      "execution_count": 34,
      "outputs": []
    },
    {
      "cell_type": "code",
      "metadata": {
        "colab": {
          "base_uri": "https://localhost:8080/",
          "height": 35
        },
        "id": "GlgugxqZAYo_",
        "outputId": "aeb7d822-9bb3-4b25-a8d5-782353a1e44f"
      },
      "source": [
        "input_str.strip()"
      ],
      "execution_count": 35,
      "outputs": [
        {
          "output_type": "execute_result",
          "data": {
            "application/vnd.google.colaboratory.intrinsic+json": {
              "type": "string"
            },
            "text/plain": [
              "'今天天氣不錯,挺風和日麗的'"
            ]
          },
          "metadata": {
            "tags": []
          },
          "execution_count": 35
        }
      ]
    },
    {
      "cell_type": "code",
      "metadata": {
        "colab": {
          "base_uri": "https://localhost:8080/",
          "height": 35
        },
        "id": "EvpwX9kdAf49",
        "outputId": "180e34b2-0379-421e-faf4-9f29e614f0b7"
      },
      "source": [
        "input_str.lstrip()"
      ],
      "execution_count": 36,
      "outputs": [
        {
          "output_type": "execute_result",
          "data": {
            "application/vnd.google.colaboratory.intrinsic+json": {
              "type": "string"
            },
            "text/plain": [
              "'今天天氣不錯,挺風和日麗的  '"
            ]
          },
          "metadata": {
            "tags": []
          },
          "execution_count": 36
        }
      ]
    },
    {
      "cell_type": "code",
      "metadata": {
        "colab": {
          "base_uri": "https://localhost:8080/",
          "height": 35
        },
        "id": "0EzM_zjRAsTg",
        "outputId": "545bd2ad-0148-404f-a766-7861ca360ad1"
      },
      "source": [
        "input_str.rstrip()"
      ],
      "execution_count": 37,
      "outputs": [
        {
          "output_type": "execute_result",
          "data": {
            "application/vnd.google.colaboratory.intrinsic+json": {
              "type": "string"
            },
            "text/plain": [
              "'  今天天氣不錯,挺風和日麗的'"
            ]
          },
          "metadata": {
            "tags": []
          },
          "execution_count": 37
        }
      ]
    },
    {
      "cell_type": "code",
      "metadata": {
        "id": "MtNofiOUAzaO"
      },
      "source": [
        "input_str = 'AAA今天天氣不錯，挺風和日麗的AAA'"
      ],
      "execution_count": 38,
      "outputs": []
    },
    {
      "cell_type": "code",
      "metadata": {
        "colab": {
          "base_uri": "https://localhost:8080/",
          "height": 35
        },
        "id": "LcAtaiZzAvzR",
        "outputId": "0b7a2492-ac0f-4211-e156-a8932cd8b75e"
      },
      "source": [
        "input_str.strip('A')"
      ],
      "execution_count": 39,
      "outputs": [
        {
          "output_type": "execute_result",
          "data": {
            "application/vnd.google.colaboratory.intrinsic+json": {
              "type": "string"
            },
            "text/plain": [
              "'今天天氣不錯，挺風和日麗的'"
            ]
          },
          "metadata": {
            "tags": []
          },
          "execution_count": 39
        }
      ]
    },
    {
      "cell_type": "code",
      "metadata": {
        "colab": {
          "base_uri": "https://localhost:8080/",
          "height": 35
        },
        "id": "HlBPLY2pBC0P",
        "outputId": "a71d7d39-147a-44f9-f58d-59d0d8715f79"
      },
      "source": [
        "input_str.strip('A').replace('今天','昨天')"
      ],
      "execution_count": 40,
      "outputs": [
        {
          "output_type": "execute_result",
          "data": {
            "application/vnd.google.colaboratory.intrinsic+json": {
              "type": "string"
            },
            "text/plain": [
              "'昨天天氣不錯，挺風和日麗的'"
            ]
          },
          "metadata": {
            "tags": []
          },
          "execution_count": 40
        }
      ]
    },
    {
      "cell_type": "code",
      "metadata": {
        "colab": {
          "base_uri": "https://localhost:8080/"
        },
        "id": "I_QN1RiSDm47",
        "outputId": "e193489d-d203-4d86-86f8-65bbdcef921f"
      },
      "source": [
        "input_str.find('今天')"
      ],
      "execution_count": 41,
      "outputs": [
        {
          "output_type": "execute_result",
          "data": {
            "text/plain": [
              "3"
            ]
          },
          "metadata": {
            "tags": []
          },
          "execution_count": 41
        }
      ]
    },
    {
      "cell_type": "code",
      "metadata": {
        "id": "HWmCkE3yEVf-"
      },
      "source": [
        "input_str = '今天 天氣 不錯，挺 風和日麗 的 '"
      ],
      "execution_count": 46,
      "outputs": []
    },
    {
      "cell_type": "code",
      "metadata": {
        "colab": {
          "base_uri": "https://localhost:8080/"
        },
        "id": "QtJn_JcyEcDv",
        "outputId": "885f364b-e22f-42da-a446-5b578b63d7be"
      },
      "source": [
        "input_str.split(' ')"
      ],
      "execution_count": 48,
      "outputs": [
        {
          "output_type": "execute_result",
          "data": {
            "text/plain": [
              "['今天', '天氣', '不錯，挺', '風和日麗', '的', '']"
            ]
          },
          "metadata": {
            "tags": []
          },
          "execution_count": 48
        }
      ]
    },
    {
      "cell_type": "code",
      "metadata": {
        "id": "zOg1exzBF7Tn"
      },
      "source": [
        "input_str = input_str.split(' ')"
      ],
      "execution_count": 52,
      "outputs": []
    },
    {
      "cell_type": "code",
      "metadata": {
        "colab": {
          "base_uri": "https://localhost:8080/",
          "height": 35
        },
        "id": "QVQ2mzNJGFdn",
        "outputId": "26959c3d-d9f5-4ea6-b529-6ada1d5c20f1"
      },
      "source": [
        "''.join(input_str)"
      ],
      "execution_count": 53,
      "outputs": [
        {
          "output_type": "execute_result",
          "data": {
            "application/vnd.google.colaboratory.intrinsic+json": {
              "type": "string"
            },
            "text/plain": [
              "'今天天氣不錯，挺風和日麗的'"
            ]
          },
          "metadata": {
            "tags": []
          },
          "execution_count": 53
        }
      ]
    },
    {
      "cell_type": "code",
      "metadata": {
        "id": "HQBmcW88HNLx"
      },
      "source": [
        "input = '自然語言處理很重要 ，12abc789'"
      ],
      "execution_count": 57,
      "outputs": []
    },
    {
      "cell_type": "code",
      "metadata": {
        "id": "ZdfOOC5_JMmc"
      },
      "source": [
        "import re"
      ],
      "execution_count": 58,
      "outputs": []
    },
    {
      "cell_type": "code",
      "metadata": {
        "id": "TMykSb1uJPir"
      },
      "source": [
        "patterns = re.compile(r'.')"
      ],
      "execution_count": 59,
      "outputs": []
    },
    {
      "cell_type": "code",
      "metadata": {
        "colab": {
          "base_uri": "https://localhost:8080/"
        },
        "id": "8nvbrn3ZJVPz",
        "outputId": "36f94454-cae9-47c4-dc22-2b54830f9883"
      },
      "source": [
        "re.findall (patterns, input)"
      ],
      "execution_count": 60,
      "outputs": [
        {
          "output_type": "execute_result",
          "data": {
            "text/plain": [
              "['自',\n",
              " '然',\n",
              " '語',\n",
              " '言',\n",
              " '處',\n",
              " '理',\n",
              " '很',\n",
              " '重',\n",
              " '要',\n",
              " ' ',\n",
              " '，',\n",
              " '1',\n",
              " '2',\n",
              " 'a',\n",
              " 'b',\n",
              " 'c',\n",
              " '7',\n",
              " '8',\n",
              " '9']"
            ]
          },
          "metadata": {
            "tags": []
          },
          "execution_count": 60
        }
      ]
    },
    {
      "cell_type": "code",
      "metadata": {
        "colab": {
          "base_uri": "https://localhost:8080/"
        },
        "id": "QzJaj8x7J1dA",
        "outputId": "bb36b308-818b-444a-87ff-69ec6db05bc1"
      },
      "source": [
        "patterns = re.compile(r'[abc]')\n",
        "re.findall(patterns, input)"
      ],
      "execution_count": 66,
      "outputs": [
        {
          "output_type": "execute_result",
          "data": {
            "text/plain": [
              "['a', 'b', 'c']"
            ]
          },
          "metadata": {
            "tags": []
          },
          "execution_count": 66
        }
      ]
    },
    {
      "cell_type": "code",
      "metadata": {
        "colab": {
          "base_uri": "https://localhost:8080/"
        },
        "id": "s2DkAKTEJ4_2",
        "outputId": "3de7880f-ccc8-4c5a-c767-414a59f1c658"
      },
      "source": [
        "patterns = re.compile(r'[a-zA-Z]|[0-9]')\n",
        "re.findall(patterns, input)"
      ],
      "execution_count": 70,
      "outputs": [
        {
          "output_type": "execute_result",
          "data": {
            "text/plain": [
              "['1', '2', 'a', 'b', 'c', '7', '8', '9']"
            ]
          },
          "metadata": {
            "tags": []
          },
          "execution_count": 70
        }
      ]
    }
  ]
}