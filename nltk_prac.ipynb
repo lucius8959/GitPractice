{
  "nbformat": 4,
  "nbformat_minor": 0,
  "metadata": {
    "colab": {
      "name": "nltk_prac.ipynb",
      "provenance": [],
      "authorship_tag": "ABX9TyMLlSxZpQXTE1VIS54Vb3H8",
      "include_colab_link": true
    },
    "kernelspec": {
      "name": "python3",
      "display_name": "Python 3"
    }
  },
  "cells": [
    {
      "cell_type": "markdown",
      "metadata": {
        "id": "view-in-github",
        "colab_type": "text"
      },
      "source": [
        "<a href=\"https://colab.research.google.com/github/lucius8959/GitPractice/blob/master/nltk_prac.ipynb\" target=\"_parent\"><img src=\"https://colab.research.google.com/assets/colab-badge.svg\" alt=\"Open In Colab\"/></a>"
      ]
    },
    {
      "cell_type": "code",
      "metadata": {
        "colab": {
          "base_uri": "https://localhost:8080/"
        },
        "id": "TQUKod8FSfDU",
        "outputId": "8afe4735-90a0-4e2c-c89b-d5434acef67f"
      },
      "source": [
        "!pip install nltk"
      ],
      "execution_count": 7,
      "outputs": [
        {
          "output_type": "stream",
          "text": [
            "Requirement already satisfied: nltk in /usr/local/lib/python3.6/dist-packages (3.2.5)\n",
            "Requirement already satisfied: six in /usr/local/lib/python3.6/dist-packages (from nltk) (1.15.0)\n"
          ],
          "name": "stdout"
        }
      ]
    },
    {
      "cell_type": "code",
      "metadata": {
        "id": "WgiDRbOc4LDI",
        "outputId": "4c46db52-2b62-4261-d674-b7c0327c7faf",
        "colab": {
          "base_uri": "https://localhost:8080/"
        }
      },
      "source": [
        "import nltk\n",
        "nltk.download('stopwords')\n",
        "nltk.download('punkt')"
      ],
      "execution_count": 8,
      "outputs": [
        {
          "output_type": "stream",
          "text": [
            "[nltk_data] Downloading package stopwords to /root/nltk_data...\n",
            "[nltk_data]   Package stopwords is already up-to-date!\n",
            "[nltk_data] Downloading package punkt to /root/nltk_data...\n",
            "[nltk_data]   Package punkt is already up-to-date!\n"
          ],
          "name": "stdout"
        },
        {
          "output_type": "execute_result",
          "data": {
            "text/plain": [
              "True"
            ]
          },
          "metadata": {
            "tags": []
          },
          "execution_count": 8
        }
      ]
    },
    {
      "cell_type": "code",
      "metadata": {
        "id": "FO7ehCcISmTb"
      },
      "source": [
        "#import nltk\n",
        "from nltk.tokenize import word_tokenize\n",
        "from nltk.text import Text"
      ],
      "execution_count": 9,
      "outputs": []
    },
    {
      "cell_type": "code",
      "metadata": {
        "id": "y13v0Oi3XG-y"
      },
      "source": [
        "input_str = \"Today's weather is good, very windy and sunny, we have no classes in the afternoon. We have to play basketball tomorrow.\""
      ],
      "execution_count": 10,
      "outputs": []
    },
    {
      "cell_type": "code",
      "metadata": {
        "id": "w6eiagFPZDOJ"
      },
      "source": [
        "tokens = word_tokenize(input_str)"
      ],
      "execution_count": 11,
      "outputs": []
    },
    {
      "cell_type": "code",
      "metadata": {
        "colab": {
          "base_uri": "https://localhost:8080/"
        },
        "id": "vNYy0PEL1D78",
        "outputId": "bd70f1a1-c43a-4067-bf6a-80c2c4a839ed"
      },
      "source": [
        "tokens = [word.lower() for word in tokens]\n",
        "tokens"
      ],
      "execution_count": 12,
      "outputs": [
        {
          "output_type": "execute_result",
          "data": {
            "text/plain": [
              "['today',\n",
              " \"'s\",\n",
              " 'weather',\n",
              " 'is',\n",
              " 'good',\n",
              " ',',\n",
              " 'very',\n",
              " 'windy',\n",
              " 'and',\n",
              " 'sunny',\n",
              " ',',\n",
              " 'we',\n",
              " 'have',\n",
              " 'no',\n",
              " 'classes',\n",
              " 'in',\n",
              " 'the',\n",
              " 'afternoon',\n",
              " '.',\n",
              " 'we',\n",
              " 'have',\n",
              " 'to',\n",
              " 'play',\n",
              " 'basketball',\n",
              " 'tomorrow',\n",
              " '.']"
            ]
          },
          "metadata": {
            "tags": []
          },
          "execution_count": 12
        }
      ]
    },
    {
      "cell_type": "code",
      "metadata": {
        "id": "iVsbHR1V143X"
      },
      "source": [
        "#help(nltk.text)\n",
        "t=Text(tokens)"
      ],
      "execution_count": 13,
      "outputs": []
    },
    {
      "cell_type": "code",
      "metadata": {
        "colab": {
          "base_uri": "https://localhost:8080/"
        },
        "id": "oqQUDTsf2G1S",
        "outputId": "cfa3a3e0-34fe-414a-8bfe-47dae165ff96"
      },
      "source": [
        "t.count('good')"
      ],
      "execution_count": 14,
      "outputs": [
        {
          "output_type": "execute_result",
          "data": {
            "text/plain": [
              "1"
            ]
          },
          "metadata": {
            "tags": []
          },
          "execution_count": 14
        }
      ]
    },
    {
      "cell_type": "code",
      "metadata": {
        "colab": {
          "base_uri": "https://localhost:8080/"
        },
        "id": "Y4qdynFq2NFr",
        "outputId": "031f3d71-65e0-4a52-af8e-795797fa91cb"
      },
      "source": [
        "t.index('good')"
      ],
      "execution_count": 15,
      "outputs": [
        {
          "output_type": "execute_result",
          "data": {
            "text/plain": [
              "4"
            ]
          },
          "metadata": {
            "tags": []
          },
          "execution_count": 15
        }
      ]
    },
    {
      "cell_type": "code",
      "metadata": {
        "colab": {
          "base_uri": "https://localhost:8080/",
          "height": 318
        },
        "id": "MuB6OuUV2RLG",
        "outputId": "f752b13c-71d7-4e5d-e42b-0fbf4cef3f7f"
      },
      "source": [
        "t.plot(20)"
      ],
      "execution_count": 16,
      "outputs": [
        {
          "output_type": "display_data",
          "data": {
            "image/png": "[encoded data removed]",
            "text/plain": [
              "<Figure size 432x288 with 1 Axes>"
            ]
          },
          "metadata": {
            "tags": [],
            "needs_background": "light"
          }
        }
      ]
    },
    {
      "cell_type": "code",
      "metadata": {
        "colab": {
          "base_uri": "https://localhost:8080/",
          "height": 188
        },
        "id": "lcGR9esdXZ3f",
        "outputId": "fd309730-bee5-483b-e670-27adf391ec7b"
      },
      "source": [
        "from nltk.corpus import stopwords\n",
        "stopwords.readme().replace('\\n', ' ')"
      ],
      "execution_count": 17,
      "outputs": [
        {
          "output_type": "execute_result",
          "data": {
            "application/vnd.google.colaboratory.intrinsic+json": {
              "type": "string"
            },
            "text/plain": [
              "'Stopwords Corpus  This corpus contains lists of stop words for several languages.  These are high-frequency grammatical words which are usually ignored in text retrieval applications.  They were obtained from: http://anoncvs.postgresql.org/cvsweb.cgi/pgsql/src/backend/snowball/stopwords/  The stop words for the Romanian language were obtained from: http://arlc.ro/resources/  The English list has been augmented https://github.com/nltk/nltk_data/issues/22  The German list has been corrected https://github.com/nltk/nltk_data/pull/49  A Kazakh list has been added https://github.com/nltk/nltk_data/pull/52  A Nepali list has been added https://github.com/nltk/nltk_data/pull/83  An Azerbaijani list has been added https://github.com/nltk/nltk_data/pull/100  A Greek list has been added https://github.com/nltk/nltk_data/pull/103  An Indonesian list has been added https://github.com/nltk/nltk_data/pull/112 '"
            ]
          },
          "metadata": {
            "tags": []
          },
          "execution_count": 17
        }
      ]
    },
    {
      "cell_type": "code",
      "metadata": {
        "id": "DL17L-Xk42cX",
        "outputId": "abb9738b-a8b0-4714-e180-21f9636bfbc8",
        "colab": {
          "base_uri": "https://localhost:8080/"
        }
      },
      "source": [
        "stopwords.fileids()"
      ],
      "execution_count": 18,
      "outputs": [
        {
          "output_type": "execute_result",
          "data": {
            "text/plain": [
              "['arabic',\n",
              " 'azerbaijani',\n",
              " 'danish',\n",
              " 'dutch',\n",
              " 'english',\n",
              " 'finnish',\n",
              " 'french',\n",
              " 'german',\n",
              " 'greek',\n",
              " 'hungarian',\n",
              " 'indonesian',\n",
              " 'italian',\n",
              " 'kazakh',\n",
              " 'nepali',\n",
              " 'norwegian',\n",
              " 'portuguese',\n",
              " 'romanian',\n",
              " 'russian',\n",
              " 'slovene',\n",
              " 'spanish',\n",
              " 'swedish',\n",
              " 'tajik',\n",
              " 'turkish']"
            ]
          },
          "metadata": {
            "tags": []
          },
          "execution_count": 18
        }
      ]
    },
    {
      "cell_type": "code",
      "metadata": {
        "id": "_aI87nis5PFU",
        "outputId": "eede2621-828b-4961-d9bd-c2f706fdd754",
        "colab": {
          "base_uri": "https://localhost:8080/",
          "height": 205
        }
      },
      "source": [
        "stopwords.raw('english').replace('\\n', ' ')"
      ],
      "execution_count": 21,
      "outputs": [
        {
          "output_type": "execute_result",
          "data": {
            "application/vnd.google.colaboratory.intrinsic+json": {
              "type": "string"
            },
            "text/plain": [
              "\"i me my myself we our ours ourselves you you're you've you'll you'd your yours yourself yourselves he him his himself she she's her hers herself it it's its itself they them their theirs themselves what which who whom this that that'll these those am is are was were be been being have has had having do does did doing a an the and but if or because as until while of at by for with about against between into through during before after above below to from up down in out on off over under again further then once here there when where why how all any both each few more most other some such no nor not only own same so than too very s t can will just don don't should should've now d ll m o re ve y ain aren aren't couldn couldn't didn didn't doesn doesn't hadn hadn't hasn hasn't haven haven't isn isn't ma mightn mightn't mustn mustn't needn needn't shan shan't shouldn shouldn't wasn wasn't weren weren't won won't wouldn wouldn't \""
            ]
          },
          "metadata": {
            "tags": []
          },
          "execution_count": 21
        }
      ]
    },
    {
      "cell_type": "code",
      "metadata": {
        "id": "l3wYb8CC5vsX"
      },
      "source": [
        "test_words = [word.lower() for word in tokens]\n",
        "test_words_set = set(test_words)"
      ],
      "execution_count": 22,
      "outputs": []
    },
    {
      "cell_type": "code",
      "metadata": {
        "id": "d-_pNSXl5-ty",
        "outputId": "d754317f-faae-4dec-bc5d-6a10455ef9ca",
        "colab": {
          "base_uri": "https://localhost:8080/"
        }
      },
      "source": [
        "test_words_set.intersection(set(stopwords.words('english')))"
      ],
      "execution_count": 23,
      "outputs": [
        {
          "output_type": "execute_result",
          "data": {
            "text/plain": [
              "{'and', 'have', 'in', 'is', 'no', 'the', 'to', 'very', 'we'}"
            ]
          },
          "metadata": {
            "tags": []
          },
          "execution_count": 23
        }
      ]
    },
    {
      "cell_type": "code",
      "metadata": {
        "id": "KmChWd656IL7",
        "outputId": "4b3399de-cf6b-4250-ece7-dd692def5446",
        "colab": {
          "base_uri": "https://localhost:8080/"
        }
      },
      "source": [
        "filtered = [w for w in test_words_set if(w not in stopwords.words('english'))]\n",
        "filtered"
      ],
      "execution_count": 24,
      "outputs": [
        {
          "output_type": "execute_result",
          "data": {
            "text/plain": [
              "['today',\n",
              " 'basketball',\n",
              " 'windy',\n",
              " '.',\n",
              " 'play',\n",
              " 'tomorrow',\n",
              " 'classes',\n",
              " 'afternoon',\n",
              " \"'s\",\n",
              " 'sunny',\n",
              " ',',\n",
              " 'weather',\n",
              " 'good']"
            ]
          },
          "metadata": {
            "tags": []
          },
          "execution_count": 24
        }
      ]
    },
    {
      "cell_type": "code",
      "metadata": {
        "id": "xRAmjZvc755K",
        "outputId": "46ebb33a-f4d6-4de7-e52e-baf319b24cec",
        "colab": {
          "base_uri": "https://localhost:8080/"
        }
      },
      "source": [
        "nltk.download('averaged_perceptron_tagger')"
      ],
      "execution_count": 27,
      "outputs": [
        {
          "output_type": "stream",
          "text": [
            "[nltk_data] Downloading package averaged_perceptron_tagger to\n",
            "[nltk_data]     /root/nltk_data...\n",
            "[nltk_data]   Unzipping taggers/averaged_perceptron_tagger.zip.\n"
          ],
          "name": "stdout"
        },
        {
          "output_type": "execute_result",
          "data": {
            "text/plain": [
              "True"
            ]
          },
          "metadata": {
            "tags": []
          },
          "execution_count": 27
        }
      ]
    },
    {
      "cell_type": "code",
      "metadata": {
        "id": "39U9KGXz9XpY",
        "outputId": "5ecdce9f-a31d-4d2e-b0c8-e44533ee5801",
        "colab": {
          "base_uri": "https://localhost:8080/"
        }
      },
      "source": [
        "from nltk import pos_tag\n",
        "tags = pos_tag(tokens)\n",
        "tags"
      ],
      "execution_count": 30,
      "outputs": [
        {
          "output_type": "execute_result",
          "data": {
            "text/plain": [
              "[('today', 'NN'),\n",
              " (\"'s\", 'POS'),\n",
              " ('weather', 'NN'),\n",
              " ('is', 'VBZ'),\n",
              " ('good', 'JJ'),\n",
              " (',', ','),\n",
              " ('very', 'RB'),\n",
              " ('windy', 'JJ'),\n",
              " ('and', 'CC'),\n",
              " ('sunny', 'JJ'),\n",
              " (',', ','),\n",
              " ('we', 'PRP'),\n",
              " ('have', 'VBP'),\n",
              " ('no', 'DT'),\n",
              " ('classes', 'NNS'),\n",
              " ('in', 'IN'),\n",
              " ('the', 'DT'),\n",
              " ('afternoon', 'NN'),\n",
              " ('.', '.'),\n",
              " ('we', 'PRP'),\n",
              " ('have', 'VBP'),\n",
              " ('to', 'TO'),\n",
              " ('play', 'VB'),\n",
              " ('basketball', 'NN'),\n",
              " ('tomorrow', 'NN'),\n",
              " ('.', '.')]"
            ]
          },
          "metadata": {
            "tags": []
          },
          "execution_count": 30
        }
      ]
    },
    {
      "cell_type": "code",
      "metadata": {
        "id": "5e7VnMTPAr9M"
      },
      "source": [
        "from nltk.chunk import RegexpParser"
      ],
      "execution_count": 58,
      "outputs": []
    },
    {
      "cell_type": "code",
      "metadata": {
        "id": "DXaOkOXRBC9B",
        "outputId": "313d1317-2f86-4bae-d091-d7484d92378e",
        "colab": {
          "base_uri": "https://localhost:8080/"
        }
      },
      "source": [
        "sentence = [('the', 'DT'), ('little', 'JJ'), ('yellow', 'JJ'), ('dog', 'NN'), ('died', 'VBD')]\n",
        "grammer = \"MY_NP:{<DT>?<JJ>*<NN>}\"\n",
        "cp = nltk.RegexpParser(grammer) #生成規則\n",
        "result = cp.parse(sentence) #進行分塊\n",
        "print(result)\n",
        "print(type(result))\n",
        "\n",
        "#result.draw() #colab can't use interactive gui"
      ],
      "execution_count": 59,
      "outputs": [
        {
          "output_type": "stream",
          "text": [
            "(S (MY_NP the/DT little/JJ yellow/JJ dog/NN) died/VBD)\n",
            "<class 'nltk.tree.Tree'>\n"
          ],
          "name": "stdout"
        }
      ]
    },
    {
      "cell_type": "code",
      "metadata": {
        "id": "Yr_hTqvpLmej",
        "outputId": "138b8aae-7980-487c-d79d-155ab33e9a95",
        "colab": {
          "base_uri": "https://localhost:8080/"
        }
      },
      "source": [
        "nltk.download('maxent_ne_chunke')\n",
        "nltk.download('words')"
      ],
      "execution_count": 60,
      "outputs": [
        {
          "output_type": "stream",
          "text": [
            "[nltk_data] Error loading maxent_ne_chunke: Package 'maxent_ne_chunke'\n",
            "[nltk_data]     not found in index\n",
            "[nltk_data] Downloading package words to /root/nltk_data...\n",
            "[nltk_data]   Unzipping corpora/words.zip.\n"
          ],
          "name": "stdout"
        },
        {
          "output_type": "execute_result",
          "data": {
            "text/plain": [
              "True"
            ]
          },
          "metadata": {
            "tags": []
          },
          "execution_count": 60
        }
      ]
    },
    {
      "cell_type": "code",
      "metadata": {
        "id": "58Y9dndwLwkn"
      },
      "source": [
        "import re\n",
        "from nltk.corpus import stopwords"
      ],
      "execution_count": 63,
      "outputs": []
    },
    {
      "cell_type": "code",
      "metadata": {
        "id": "CFMJju30QotN"
      },
      "source": [
        "s = \"<div class=footer role=contentinfo>         &#169; Copyright 2020, NLTK Project.       Last updated on Apr 13, 2020.       Created using <a href=http://sphinx-doc.org/>Sphinx</a> 2.4.4.</div>\""
      ],
      "execution_count": null,
      "outputs": []
    },
    {
      "cell_type": "code",
      "metadata": {
        "id": "Hu7lXLysRODH"
      },
      "source": [
        "catch_english_stopwords = stopwords.words('')"
      ],
      "execution_count": null,
      "outputs": []
    }
  ]
}