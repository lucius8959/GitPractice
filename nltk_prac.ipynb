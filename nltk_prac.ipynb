{
  "nbformat": 4,
  "nbformat_minor": 0,
  "metadata": {
    "colab": {
      "name": "nltk_prac.ipynb",
      "provenance": [],
      "authorship_tag": "ABX9TyMsSf5RnpACUIVTJx5xHY+Y",
      "include_colab_link": true
    },
    "kernelspec": {
      "name": "python3",
      "display_name": "Python 3"
    }
  },
  "cells": [
    {
      "cell_type": "markdown",
      "metadata": {
        "id": "view-in-github",
        "colab_type": "text"
      },
      "source": [
        "<a href=\"https://colab.research.google.com/github/lucius8959/GitPractice/blob/master/nltk_prac.ipynb\" target=\"_parent\"><img src=\"https://colab.research.google.com/assets/colab-badge.svg\" alt=\"Open In Colab\"/></a>"
      ]
    },
    {
      "cell_type": "code",
      "metadata": {
        "colab": {
          "base_uri": "https://localhost:8080/"
        },
        "id": "TQUKod8FSfDU",
        "outputId": "e98979d9-42bc-49a4-83e5-a3972e0dc2e0"
      },
      "source": [
        "!pip install nltk\n",
        "nltk.download('stopwords')\n",
        "nltk.download('punkt')\n"
      ],
      "execution_count": 28,
      "outputs": [
        {
          "output_type": "stream",
          "text": [
            "Requirement already satisfied: nltk in /usr/local/lib/python3.6/dist-packages (3.2.5)\n",
            "Requirement already satisfied: six in /usr/local/lib/python3.6/dist-packages (from nltk) (1.15.0)\n",
            "[nltk_data] Downloading package stopwords to /root/nltk_data...\n",
            "[nltk_data]   Package stopwords is already up-to-date!\n",
            "[nltk_data] Downloading package punkt to /root/nltk_data...\n",
            "[nltk_data]   Unzipping tokenizers/punkt.zip.\n"
          ],
          "name": "stdout"
        },
        {
          "output_type": "execute_result",
          "data": {
            "text/plain": [
              "True"
            ]
          },
          "metadata": {
            "tags": []
          },
          "execution_count": 28
        }
      ]
    },
    {
      "cell_type": "code",
      "metadata": {
        "id": "FO7ehCcISmTb"
      },
      "source": [
        "import nltk\n",
        "from nltk.tokenize import word_tokenize\n",
        "from nltk.text import Text"
      ],
      "execution_count": 29,
      "outputs": []
    },
    {
      "cell_type": "code",
      "metadata": {
        "id": "y13v0Oi3XG-y"
      },
      "source": [
        "input_str = \"Today's weather is good, very windy and sunny, we have no classes in the afternoon. We have to play basketball tomorrow.\""
      ],
      "execution_count": 30,
      "outputs": []
    },
    {
      "cell_type": "code",
      "metadata": {
        "id": "w6eiagFPZDOJ"
      },
      "source": [
        "tokens = word_tokenize(input_str)"
      ],
      "execution_count": 31,
      "outputs": []
    },
    {
      "cell_type": "code",
      "metadata": {
        "colab": {
          "base_uri": "https://localhost:8080/"
        },
        "id": "vNYy0PEL1D78",
        "outputId": "ee0de5d3-1d8d-4183-9083-27d5e9bd5afb"
      },
      "source": [
        "tokens = [word.lower() for word in tokens]\n",
        "tokens"
      ],
      "execution_count": 35,
      "outputs": [
        {
          "output_type": "execute_result",
          "data": {
            "text/plain": [
              "['today',\n",
              " \"'s\",\n",
              " 'weather',\n",
              " 'is',\n",
              " 'good',\n",
              " ',',\n",
              " 'very',\n",
              " 'windy',\n",
              " 'and',\n",
              " 'sunny',\n",
              " ',',\n",
              " 'we',\n",
              " 'have',\n",
              " 'no',\n",
              " 'classes',\n",
              " 'in',\n",
              " 'the',\n",
              " 'afternoon',\n",
              " '.',\n",
              " 'we',\n",
              " 'have',\n",
              " 'to',\n",
              " 'play',\n",
              " 'basketball',\n",
              " 'tomorrow',\n",
              " '.']"
            ]
          },
          "metadata": {
            "tags": []
          },
          "execution_count": 35
        }
      ]
    },
    {
      "cell_type": "code",
      "metadata": {
        "id": "iVsbHR1V143X"
      },
      "source": [
        "#help(nltk.text)\n",
        "t=Text(tokens)"
      ],
      "execution_count": 37,
      "outputs": []
    },
    {
      "cell_type": "code",
      "metadata": {
        "colab": {
          "base_uri": "https://localhost:8080/"
        },
        "id": "oqQUDTsf2G1S",
        "outputId": "96a0321f-e765-4886-d951-d1c64cf89cf1"
      },
      "source": [
        "t.count('good')"
      ],
      "execution_count": 38,
      "outputs": [
        {
          "output_type": "execute_result",
          "data": {
            "text/plain": [
              "1"
            ]
          },
          "metadata": {
            "tags": []
          },
          "execution_count": 38
        }
      ]
    },
    {
      "cell_type": "code",
      "metadata": {
        "colab": {
          "base_uri": "https://localhost:8080/"
        },
        "id": "Y4qdynFq2NFr",
        "outputId": "c0e06b7e-f435-4c26-cbd8-531d6852328a"
      },
      "source": [
        "t.index('good')"
      ],
      "execution_count": 39,
      "outputs": [
        {
          "output_type": "execute_result",
          "data": {
            "text/plain": [
              "4"
            ]
          },
          "metadata": {
            "tags": []
          },
          "execution_count": 39
        }
      ]
    },
    {
      "cell_type": "code",
      "metadata": {
        "colab": {
          "base_uri": "https://localhost:8080/",
          "height": 318
        },
        "id": "MuB6OuUV2RLG",
        "outputId": "62d01f58-2a91-427f-bb06-def07a3e8e02"
      },
      "source": [
        "t.plot(20)"
      ],
      "execution_count": 41,
      "outputs": [
        {
          "output_type": "display_data",
          "data": {
            "image/png": "[encoded data removed]",
            "text/plain": [
              "<Figure size 432x288 with 1 Axes>"
            ]
          },
          "metadata": {
            "tags": [],
            "needs_background": "light"
          }
        }
      ]
    },
    {
      "cell_type": "code",
      "metadata": {
        "colab": {
          "base_uri": "https://localhost:8080/",
          "height": 205
        },
        "id": "lcGR9esdXZ3f",
        "outputId": "bb3b82ec-a8a9-4741-ea54-e7dfb57283a4"
      },
      "source": [
        "from nltk.corpus import stopwords\n",
        "stopwords.readme().replace('\\a', ' ')"
      ],
      "execution_count": 34,
      "outputs": [
        {
          "output_type": "execute_result",
          "data": {
            "application/vnd.google.colaboratory.intrinsic+json": {
              "type": "string"
            },
            "text/plain": [
              "'Stopwords Corpus\\n\\nThis corpus contains lists of stop words for several languages.  These\\nare high-frequency grammatical words which are usually ignored in text\\nretrieval applications.\\n\\nThey were obtained from:\\nhttp://anoncvs.postgresql.org/cvsweb.cgi/pgsql/src/backend/snowball/stopwords/\\n\\nThe stop words for the Romanian language were obtained from:\\nhttp://arlc.ro/resources/\\n\\nThe English list has been augmented\\nhttps://github.com/nltk/nltk_data/issues/22\\n\\nThe German list has been corrected\\nhttps://github.com/nltk/nltk_data/pull/49\\n\\nA Kazakh list has been added\\nhttps://github.com/nltk/nltk_data/pull/52\\n\\nA Nepali list has been added\\nhttps://github.com/nltk/nltk_data/pull/83\\n\\nAn Azerbaijani list has been added\\nhttps://github.com/nltk/nltk_data/pull/100\\n\\nA Greek list has been added\\nhttps://github.com/nltk/nltk_data/pull/103\\n\\nAn Indonesian list has been added\\nhttps://github.com/nltk/nltk_data/pull/112\\n'"
            ]
          },
          "metadata": {
            "tags": []
          },
          "execution_count": 34
        }
      ]
    }
  ]
}